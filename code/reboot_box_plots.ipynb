{
 "cells": [
  {
   "cell_type": "code",
   "execution_count": 22,
   "metadata": {},
   "outputs": [],
   "source": [
    "import pandas as pd\n",
    "import numpy as np\n",
    "from sklearn.multiclass import OneVsRestClassifier\n",
    "from xgboost import XGBClassifier\n",
    "from sklearn.impute import SimpleImputer\n",
    "from sklearn.pipeline import Pipeline\n",
    "from sklearn.tree import DecisionTreeClassifier\n",
    "from sklearn.compose import ColumnTransformer\n",
    "from sklearn.base import TransformerMixin, BaseEstimator\n",
    "from sklearn.feature_extraction.text import HashingVectorizer,CountVectorizer,TfidfVectorizer  \n",
    "from sklearn.ensemble import RandomForestClassifier,ExtraTreesClassifier,AdaBoostClassifier\n",
    "from sklearn.multioutput import MultiOutputClassifier\n",
    "from sklearn.preprocessing import MultiLabelBinarizer\n",
    "from sklearn.model_selection import train_test_split\n",
    "from sklearn.neighbors import KNeighborsClassifier,RadiusNeighborsClassifier"
   ]
  },
  {
   "cell_type": "markdown",
   "metadata": {},
   "source": [
    "**Reboot: Box-Plots for Education competition**"
   ]
  },
  {
   "cell_type": "markdown",
   "metadata": {},
   "source": [
    "**Data importation : training data**"
   ]
  },
  {
   "cell_type": "code",
   "execution_count": 23,
   "metadata": {},
   "outputs": [],
   "source": [
    "train_data = pd.read_csv('../data/TrainingData.csv', index_col=[0])"
   ]
  },
  {
   "cell_type": "code",
   "execution_count": 24,
   "metadata": {},
   "outputs": [
    {
     "data": {
      "text/html": [
       "<div>\n",
       "<style scoped>\n",
       "    .dataframe tbody tr th:only-of-type {\n",
       "        vertical-align: middle;\n",
       "    }\n",
       "\n",
       "    .dataframe tbody tr th {\n",
       "        vertical-align: top;\n",
       "    }\n",
       "\n",
       "    .dataframe thead th {\n",
       "        text-align: right;\n",
       "    }\n",
       "</style>\n",
       "<table border=\"1\" class=\"dataframe\">\n",
       "  <thead>\n",
       "    <tr style=\"text-align: right;\">\n",
       "      <th></th>\n",
       "      <th>Function</th>\n",
       "      <th>Use</th>\n",
       "      <th>Sharing</th>\n",
       "      <th>Reporting</th>\n",
       "      <th>Student_Type</th>\n",
       "      <th>Position_Type</th>\n",
       "      <th>Object_Type</th>\n",
       "      <th>Pre_K</th>\n",
       "      <th>Operating_Status</th>\n",
       "      <th>Object_Description</th>\n",
       "      <th>...</th>\n",
       "      <th>Sub_Object_Description</th>\n",
       "      <th>Location_Description</th>\n",
       "      <th>FTE</th>\n",
       "      <th>Function_Description</th>\n",
       "      <th>Facility_or_Department</th>\n",
       "      <th>Position_Extra</th>\n",
       "      <th>Total</th>\n",
       "      <th>Program_Description</th>\n",
       "      <th>Fund_Description</th>\n",
       "      <th>Text_1</th>\n",
       "    </tr>\n",
       "  </thead>\n",
       "  <tbody>\n",
       "    <tr>\n",
       "      <td>134338</td>\n",
       "      <td>Teacher Compensation</td>\n",
       "      <td>Instruction</td>\n",
       "      <td>School Reported</td>\n",
       "      <td>School</td>\n",
       "      <td>NO_LABEL</td>\n",
       "      <td>Teacher</td>\n",
       "      <td>NO_LABEL</td>\n",
       "      <td>NO_LABEL</td>\n",
       "      <td>PreK-12 Operating</td>\n",
       "      <td>NaN</td>\n",
       "      <td>...</td>\n",
       "      <td>NaN</td>\n",
       "      <td>NaN</td>\n",
       "      <td>1.0</td>\n",
       "      <td>NaN</td>\n",
       "      <td>NaN</td>\n",
       "      <td>KINDERGARTEN</td>\n",
       "      <td>50471.810</td>\n",
       "      <td>KINDERGARTEN</td>\n",
       "      <td>General Fund</td>\n",
       "      <td>NaN</td>\n",
       "    </tr>\n",
       "    <tr>\n",
       "      <td>206341</td>\n",
       "      <td>NO_LABEL</td>\n",
       "      <td>NO_LABEL</td>\n",
       "      <td>NO_LABEL</td>\n",
       "      <td>NO_LABEL</td>\n",
       "      <td>NO_LABEL</td>\n",
       "      <td>NO_LABEL</td>\n",
       "      <td>NO_LABEL</td>\n",
       "      <td>NO_LABEL</td>\n",
       "      <td>Non-Operating</td>\n",
       "      <td>CONTRACTOR SERVICES</td>\n",
       "      <td>...</td>\n",
       "      <td>NaN</td>\n",
       "      <td>NaN</td>\n",
       "      <td>NaN</td>\n",
       "      <td>RGN  GOB</td>\n",
       "      <td>NaN</td>\n",
       "      <td>UNDESIGNATED</td>\n",
       "      <td>3477.860</td>\n",
       "      <td>BUILDING IMPROVEMENT SERVICES</td>\n",
       "      <td>NaN</td>\n",
       "      <td>BUILDING IMPROVEMENT SERVICES</td>\n",
       "    </tr>\n",
       "    <tr>\n",
       "      <td>326408</td>\n",
       "      <td>Teacher Compensation</td>\n",
       "      <td>Instruction</td>\n",
       "      <td>School Reported</td>\n",
       "      <td>School</td>\n",
       "      <td>Unspecified</td>\n",
       "      <td>Teacher</td>\n",
       "      <td>Base Salary/Compensation</td>\n",
       "      <td>Non PreK</td>\n",
       "      <td>PreK-12 Operating</td>\n",
       "      <td>Personal Services - Teachers</td>\n",
       "      <td>...</td>\n",
       "      <td>NaN</td>\n",
       "      <td>NaN</td>\n",
       "      <td>1.0</td>\n",
       "      <td>NaN</td>\n",
       "      <td>NaN</td>\n",
       "      <td>TEACHER</td>\n",
       "      <td>62237.130</td>\n",
       "      <td>Instruction - Regular</td>\n",
       "      <td>General Purpose School</td>\n",
       "      <td>NaN</td>\n",
       "    </tr>\n",
       "    <tr>\n",
       "      <td>364634</td>\n",
       "      <td>Substitute Compensation</td>\n",
       "      <td>Instruction</td>\n",
       "      <td>School Reported</td>\n",
       "      <td>School</td>\n",
       "      <td>Unspecified</td>\n",
       "      <td>Substitute</td>\n",
       "      <td>Benefits</td>\n",
       "      <td>NO_LABEL</td>\n",
       "      <td>PreK-12 Operating</td>\n",
       "      <td>EMPLOYEE BENEFITS</td>\n",
       "      <td>...</td>\n",
       "      <td>NaN</td>\n",
       "      <td>NaN</td>\n",
       "      <td>NaN</td>\n",
       "      <td>UNALLOC BUDGETS/SCHOOLS</td>\n",
       "      <td>NaN</td>\n",
       "      <td>PROFESSIONAL-INSTRUCTIONAL</td>\n",
       "      <td>22.300</td>\n",
       "      <td>GENERAL MIDDLE/JUNIOR HIGH SCH</td>\n",
       "      <td>NaN</td>\n",
       "      <td>REGULAR INSTRUCTION</td>\n",
       "    </tr>\n",
       "    <tr>\n",
       "      <td>47683</td>\n",
       "      <td>Substitute Compensation</td>\n",
       "      <td>Instruction</td>\n",
       "      <td>School Reported</td>\n",
       "      <td>School</td>\n",
       "      <td>Unspecified</td>\n",
       "      <td>Teacher</td>\n",
       "      <td>Substitute Compensation</td>\n",
       "      <td>NO_LABEL</td>\n",
       "      <td>PreK-12 Operating</td>\n",
       "      <td>TEACHER COVERAGE FOR TEACHER</td>\n",
       "      <td>...</td>\n",
       "      <td>NaN</td>\n",
       "      <td>NaN</td>\n",
       "      <td>NaN</td>\n",
       "      <td>NON-PROJECT</td>\n",
       "      <td>NaN</td>\n",
       "      <td>PROFESSIONAL-INSTRUCTIONAL</td>\n",
       "      <td>54.166</td>\n",
       "      <td>GENERAL HIGH SCHOOL EDUCATION</td>\n",
       "      <td>NaN</td>\n",
       "      <td>REGULAR INSTRUCTION</td>\n",
       "    </tr>\n",
       "  </tbody>\n",
       "</table>\n",
       "<p>5 rows × 25 columns</p>\n",
       "</div>"
      ],
      "text/plain": [
       "                       Function          Use          Sharing Reporting  \\\n",
       "134338     Teacher Compensation  Instruction  School Reported    School   \n",
       "206341                 NO_LABEL     NO_LABEL         NO_LABEL  NO_LABEL   \n",
       "326408     Teacher Compensation  Instruction  School Reported    School   \n",
       "364634  Substitute Compensation  Instruction  School Reported    School   \n",
       "47683   Substitute Compensation  Instruction  School Reported    School   \n",
       "\n",
       "       Student_Type Position_Type               Object_Type     Pre_K  \\\n",
       "134338     NO_LABEL       Teacher                  NO_LABEL  NO_LABEL   \n",
       "206341     NO_LABEL      NO_LABEL                  NO_LABEL  NO_LABEL   \n",
       "326408  Unspecified       Teacher  Base Salary/Compensation  Non PreK   \n",
       "364634  Unspecified    Substitute                  Benefits  NO_LABEL   \n",
       "47683   Unspecified       Teacher   Substitute Compensation  NO_LABEL   \n",
       "\n",
       "         Operating_Status            Object_Description  ...  \\\n",
       "134338  PreK-12 Operating                           NaN  ...   \n",
       "206341      Non-Operating           CONTRACTOR SERVICES  ...   \n",
       "326408  PreK-12 Operating  Personal Services - Teachers  ...   \n",
       "364634  PreK-12 Operating             EMPLOYEE BENEFITS  ...   \n",
       "47683   PreK-12 Operating  TEACHER COVERAGE FOR TEACHER  ...   \n",
       "\n",
       "       Sub_Object_Description Location_Description  FTE  \\\n",
       "134338                    NaN                  NaN  1.0   \n",
       "206341                    NaN                  NaN  NaN   \n",
       "326408                    NaN                  NaN  1.0   \n",
       "364634                    NaN                  NaN  NaN   \n",
       "47683                     NaN                  NaN  NaN   \n",
       "\n",
       "           Function_Description Facility_or_Department  \\\n",
       "134338                      NaN                    NaN   \n",
       "206341                 RGN  GOB                    NaN   \n",
       "326408                      NaN                    NaN   \n",
       "364634  UNALLOC BUDGETS/SCHOOLS                    NaN   \n",
       "47683               NON-PROJECT                    NaN   \n",
       "\n",
       "                    Position_Extra      Total             Program_Description  \\\n",
       "134338               KINDERGARTEN   50471.810                    KINDERGARTEN   \n",
       "206341                UNDESIGNATED   3477.860   BUILDING IMPROVEMENT SERVICES   \n",
       "326408                     TEACHER  62237.130           Instruction - Regular   \n",
       "364634  PROFESSIONAL-INSTRUCTIONAL     22.300  GENERAL MIDDLE/JUNIOR HIGH SCH   \n",
       "47683   PROFESSIONAL-INSTRUCTIONAL     54.166   GENERAL HIGH SCHOOL EDUCATION   \n",
       "\n",
       "              Fund_Description                         Text_1  \n",
       "134338            General Fund                            NaN  \n",
       "206341                     NaN  BUILDING IMPROVEMENT SERVICES  \n",
       "326408  General Purpose School                            NaN  \n",
       "364634                     NaN            REGULAR INSTRUCTION  \n",
       "47683                      NaN            REGULAR INSTRUCTION  \n",
       "\n",
       "[5 rows x 25 columns]"
      ]
     },
     "execution_count": 24,
     "metadata": {},
     "output_type": "execute_result"
    }
   ],
   "source": [
    "train_data.head(5)"
   ]
  },
  {
   "cell_type": "code",
   "execution_count": 25,
   "metadata": {},
   "outputs": [
    {
     "data": {
      "text/html": [
       "<div>\n",
       "<style scoped>\n",
       "    .dataframe tbody tr th:only-of-type {\n",
       "        vertical-align: middle;\n",
       "    }\n",
       "\n",
       "    .dataframe tbody tr th {\n",
       "        vertical-align: top;\n",
       "    }\n",
       "\n",
       "    .dataframe thead th {\n",
       "        text-align: right;\n",
       "    }\n",
       "</style>\n",
       "<table border=\"1\" class=\"dataframe\">\n",
       "  <thead>\n",
       "    <tr style=\"text-align: right;\">\n",
       "      <th></th>\n",
       "      <th>Object_Description</th>\n",
       "      <th>Text_2</th>\n",
       "      <th>SubFund_Description</th>\n",
       "      <th>Job_Title_Description</th>\n",
       "      <th>Text_3</th>\n",
       "      <th>Text_4</th>\n",
       "      <th>Sub_Object_Description</th>\n",
       "      <th>Location_Description</th>\n",
       "      <th>FTE</th>\n",
       "      <th>Function_Description</th>\n",
       "      <th>Facility_or_Department</th>\n",
       "      <th>Position_Extra</th>\n",
       "      <th>Total</th>\n",
       "      <th>Program_Description</th>\n",
       "      <th>Fund_Description</th>\n",
       "      <th>Text_1</th>\n",
       "    </tr>\n",
       "  </thead>\n",
       "  <tbody>\n",
       "    <tr>\n",
       "      <td>134338</td>\n",
       "      <td>NaN</td>\n",
       "      <td>NaN</td>\n",
       "      <td>NaN</td>\n",
       "      <td>Teacher-Elementary</td>\n",
       "      <td>NaN</td>\n",
       "      <td>NaN</td>\n",
       "      <td>NaN</td>\n",
       "      <td>NaN</td>\n",
       "      <td>1.0</td>\n",
       "      <td>NaN</td>\n",
       "      <td>NaN</td>\n",
       "      <td>KINDERGARTEN</td>\n",
       "      <td>50471.810</td>\n",
       "      <td>KINDERGARTEN</td>\n",
       "      <td>General Fund</td>\n",
       "      <td>NaN</td>\n",
       "    </tr>\n",
       "    <tr>\n",
       "      <td>206341</td>\n",
       "      <td>CONTRACTOR SERVICES</td>\n",
       "      <td>BOND EXPENDITURES</td>\n",
       "      <td>BUILDING FUND</td>\n",
       "      <td>(blank)</td>\n",
       "      <td>Regular</td>\n",
       "      <td>NaN</td>\n",
       "      <td>NaN</td>\n",
       "      <td>NaN</td>\n",
       "      <td>NaN</td>\n",
       "      <td>RGN  GOB</td>\n",
       "      <td>NaN</td>\n",
       "      <td>UNDESIGNATED</td>\n",
       "      <td>3477.860</td>\n",
       "      <td>BUILDING IMPROVEMENT SERVICES</td>\n",
       "      <td>NaN</td>\n",
       "      <td>BUILDING IMPROVEMENT SERVICES</td>\n",
       "    </tr>\n",
       "    <tr>\n",
       "      <td>326408</td>\n",
       "      <td>Personal Services - Teachers</td>\n",
       "      <td>NaN</td>\n",
       "      <td>NaN</td>\n",
       "      <td>TCHER 2ND GRADE</td>\n",
       "      <td>NaN</td>\n",
       "      <td>Regular Instruction</td>\n",
       "      <td>NaN</td>\n",
       "      <td>NaN</td>\n",
       "      <td>1.0</td>\n",
       "      <td>NaN</td>\n",
       "      <td>NaN</td>\n",
       "      <td>TEACHER</td>\n",
       "      <td>62237.130</td>\n",
       "      <td>Instruction - Regular</td>\n",
       "      <td>General Purpose School</td>\n",
       "      <td>NaN</td>\n",
       "    </tr>\n",
       "    <tr>\n",
       "      <td>364634</td>\n",
       "      <td>EMPLOYEE BENEFITS</td>\n",
       "      <td>TEACHER SUBS</td>\n",
       "      <td>GENERAL FUND</td>\n",
       "      <td>Teacher, Short Term Sub</td>\n",
       "      <td>Regular</td>\n",
       "      <td>NaN</td>\n",
       "      <td>NaN</td>\n",
       "      <td>NaN</td>\n",
       "      <td>NaN</td>\n",
       "      <td>UNALLOC BUDGETS/SCHOOLS</td>\n",
       "      <td>NaN</td>\n",
       "      <td>PROFESSIONAL-INSTRUCTIONAL</td>\n",
       "      <td>22.300</td>\n",
       "      <td>GENERAL MIDDLE/JUNIOR HIGH SCH</td>\n",
       "      <td>NaN</td>\n",
       "      <td>REGULAR INSTRUCTION</td>\n",
       "    </tr>\n",
       "    <tr>\n",
       "      <td>47683</td>\n",
       "      <td>TEACHER COVERAGE FOR TEACHER</td>\n",
       "      <td>TEACHER SUBS</td>\n",
       "      <td>GENERAL FUND</td>\n",
       "      <td>Teacher, Secondary (High)</td>\n",
       "      <td>Alternative</td>\n",
       "      <td>NaN</td>\n",
       "      <td>NaN</td>\n",
       "      <td>NaN</td>\n",
       "      <td>NaN</td>\n",
       "      <td>NON-PROJECT</td>\n",
       "      <td>NaN</td>\n",
       "      <td>PROFESSIONAL-INSTRUCTIONAL</td>\n",
       "      <td>54.166</td>\n",
       "      <td>GENERAL HIGH SCHOOL EDUCATION</td>\n",
       "      <td>NaN</td>\n",
       "      <td>REGULAR INSTRUCTION</td>\n",
       "    </tr>\n",
       "  </tbody>\n",
       "</table>\n",
       "</div>"
      ],
      "text/plain": [
       "                  Object_Description             Text_2 SubFund_Description  \\\n",
       "134338                           NaN                NaN                 NaN   \n",
       "206341           CONTRACTOR SERVICES  BOND EXPENDITURES       BUILDING FUND   \n",
       "326408  Personal Services - Teachers                NaN                 NaN   \n",
       "364634             EMPLOYEE BENEFITS       TEACHER SUBS        GENERAL FUND   \n",
       "47683   TEACHER COVERAGE FOR TEACHER       TEACHER SUBS        GENERAL FUND   \n",
       "\n",
       "             Job_Title_Description       Text_3               Text_4  \\\n",
       "134338         Teacher-Elementary           NaN                  NaN   \n",
       "206341                     (blank)      Regular                  NaN   \n",
       "326408             TCHER 2ND GRADE          NaN  Regular Instruction   \n",
       "364634    Teacher, Short Term Sub       Regular                  NaN   \n",
       "47683   Teacher, Secondary (High)   Alternative                  NaN   \n",
       "\n",
       "       Sub_Object_Description Location_Description  FTE  \\\n",
       "134338                    NaN                  NaN  1.0   \n",
       "206341                    NaN                  NaN  NaN   \n",
       "326408                    NaN                  NaN  1.0   \n",
       "364634                    NaN                  NaN  NaN   \n",
       "47683                     NaN                  NaN  NaN   \n",
       "\n",
       "           Function_Description Facility_or_Department  \\\n",
       "134338                      NaN                    NaN   \n",
       "206341                 RGN  GOB                    NaN   \n",
       "326408                      NaN                    NaN   \n",
       "364634  UNALLOC BUDGETS/SCHOOLS                    NaN   \n",
       "47683               NON-PROJECT                    NaN   \n",
       "\n",
       "                    Position_Extra      Total             Program_Description  \\\n",
       "134338               KINDERGARTEN   50471.810                    KINDERGARTEN   \n",
       "206341                UNDESIGNATED   3477.860   BUILDING IMPROVEMENT SERVICES   \n",
       "326408                     TEACHER  62237.130           Instruction - Regular   \n",
       "364634  PROFESSIONAL-INSTRUCTIONAL     22.300  GENERAL MIDDLE/JUNIOR HIGH SCH   \n",
       "47683   PROFESSIONAL-INSTRUCTIONAL     54.166   GENERAL HIGH SCHOOL EDUCATION   \n",
       "\n",
       "              Fund_Description                         Text_1  \n",
       "134338            General Fund                            NaN  \n",
       "206341                     NaN  BUILDING IMPROVEMENT SERVICES  \n",
       "326408  General Purpose School                            NaN  \n",
       "364634                     NaN            REGULAR INSTRUCTION  \n",
       "47683                      NaN            REGULAR INSTRUCTION  "
      ]
     },
     "execution_count": 25,
     "metadata": {},
     "output_type": "execute_result"
    }
   ],
   "source": [
    "X = train_data.loc[:, 'Object_Description':]\n",
    "X.head(5)"
   ]
  },
  {
   "cell_type": "code",
   "execution_count": 26,
   "metadata": {},
   "outputs": [
    {
     "data": {
      "text/html": [
       "<div>\n",
       "<style scoped>\n",
       "    .dataframe tbody tr th:only-of-type {\n",
       "        vertical-align: middle;\n",
       "    }\n",
       "\n",
       "    .dataframe tbody tr th {\n",
       "        vertical-align: top;\n",
       "    }\n",
       "\n",
       "    .dataframe thead th {\n",
       "        text-align: right;\n",
       "    }\n",
       "</style>\n",
       "<table border=\"1\" class=\"dataframe\">\n",
       "  <thead>\n",
       "    <tr style=\"text-align: right;\">\n",
       "      <th></th>\n",
       "      <th>Function</th>\n",
       "      <th>Use</th>\n",
       "      <th>Sharing</th>\n",
       "      <th>Reporting</th>\n",
       "      <th>Student_Type</th>\n",
       "      <th>Position_Type</th>\n",
       "      <th>Object_Type</th>\n",
       "      <th>Pre_K</th>\n",
       "      <th>Operating_Status</th>\n",
       "    </tr>\n",
       "  </thead>\n",
       "  <tbody>\n",
       "    <tr>\n",
       "      <td>134338</td>\n",
       "      <td>Teacher Compensation</td>\n",
       "      <td>Instruction</td>\n",
       "      <td>School Reported</td>\n",
       "      <td>School</td>\n",
       "      <td>NO_LABEL</td>\n",
       "      <td>Teacher</td>\n",
       "      <td>NO_LABEL</td>\n",
       "      <td>NO_LABEL</td>\n",
       "      <td>PreK-12 Operating</td>\n",
       "    </tr>\n",
       "    <tr>\n",
       "      <td>206341</td>\n",
       "      <td>NO_LABEL</td>\n",
       "      <td>NO_LABEL</td>\n",
       "      <td>NO_LABEL</td>\n",
       "      <td>NO_LABEL</td>\n",
       "      <td>NO_LABEL</td>\n",
       "      <td>NO_LABEL</td>\n",
       "      <td>NO_LABEL</td>\n",
       "      <td>NO_LABEL</td>\n",
       "      <td>Non-Operating</td>\n",
       "    </tr>\n",
       "    <tr>\n",
       "      <td>326408</td>\n",
       "      <td>Teacher Compensation</td>\n",
       "      <td>Instruction</td>\n",
       "      <td>School Reported</td>\n",
       "      <td>School</td>\n",
       "      <td>Unspecified</td>\n",
       "      <td>Teacher</td>\n",
       "      <td>Base Salary/Compensation</td>\n",
       "      <td>Non PreK</td>\n",
       "      <td>PreK-12 Operating</td>\n",
       "    </tr>\n",
       "    <tr>\n",
       "      <td>364634</td>\n",
       "      <td>Substitute Compensation</td>\n",
       "      <td>Instruction</td>\n",
       "      <td>School Reported</td>\n",
       "      <td>School</td>\n",
       "      <td>Unspecified</td>\n",
       "      <td>Substitute</td>\n",
       "      <td>Benefits</td>\n",
       "      <td>NO_LABEL</td>\n",
       "      <td>PreK-12 Operating</td>\n",
       "    </tr>\n",
       "    <tr>\n",
       "      <td>47683</td>\n",
       "      <td>Substitute Compensation</td>\n",
       "      <td>Instruction</td>\n",
       "      <td>School Reported</td>\n",
       "      <td>School</td>\n",
       "      <td>Unspecified</td>\n",
       "      <td>Teacher</td>\n",
       "      <td>Substitute Compensation</td>\n",
       "      <td>NO_LABEL</td>\n",
       "      <td>PreK-12 Operating</td>\n",
       "    </tr>\n",
       "  </tbody>\n",
       "</table>\n",
       "</div>"
      ],
      "text/plain": [
       "                       Function          Use          Sharing Reporting  \\\n",
       "134338     Teacher Compensation  Instruction  School Reported    School   \n",
       "206341                 NO_LABEL     NO_LABEL         NO_LABEL  NO_LABEL   \n",
       "326408     Teacher Compensation  Instruction  School Reported    School   \n",
       "364634  Substitute Compensation  Instruction  School Reported    School   \n",
       "47683   Substitute Compensation  Instruction  School Reported    School   \n",
       "\n",
       "       Student_Type Position_Type               Object_Type     Pre_K  \\\n",
       "134338     NO_LABEL       Teacher                  NO_LABEL  NO_LABEL   \n",
       "206341     NO_LABEL      NO_LABEL                  NO_LABEL  NO_LABEL   \n",
       "326408  Unspecified       Teacher  Base Salary/Compensation  Non PreK   \n",
       "364634  Unspecified    Substitute                  Benefits  NO_LABEL   \n",
       "47683   Unspecified       Teacher   Substitute Compensation  NO_LABEL   \n",
       "\n",
       "         Operating_Status  \n",
       "134338  PreK-12 Operating  \n",
       "206341      Non-Operating  \n",
       "326408  PreK-12 Operating  \n",
       "364634  PreK-12 Operating  \n",
       "47683   PreK-12 Operating  "
      ]
     },
     "execution_count": 26,
     "metadata": {},
     "output_type": "execute_result"
    }
   ],
   "source": [
    "y = train_data.loc[:, :'Operating_Status']\n",
    "y.head(5)"
   ]
  },
  {
   "cell_type": "markdown",
   "metadata": {},
   "source": [
    "**Data importation : testing data**"
   ]
  },
  {
   "cell_type": "code",
   "execution_count": 27,
   "metadata": {},
   "outputs": [
    {
     "name": "stderr",
     "output_type": "stream",
     "text": [
      "C:\\ProgramData\\Anaconda3\\lib\\site-packages\\IPython\\core\\interactiveshell.py:3058: DtypeWarning: Columns (5,11) have mixed types. Specify dtype option on import or set low_memory=False.\n",
      "  interactivity=interactivity, compiler=compiler, result=result)\n"
     ]
    }
   ],
   "source": [
    "X_test = pd.read_csv('../data/TestData.csv', index_col=[0])"
   ]
  },
  {
   "cell_type": "code",
   "execution_count": 28,
   "metadata": {},
   "outputs": [
    {
     "data": {
      "text/html": [
       "<div>\n",
       "<style scoped>\n",
       "    .dataframe tbody tr th:only-of-type {\n",
       "        vertical-align: middle;\n",
       "    }\n",
       "\n",
       "    .dataframe tbody tr th {\n",
       "        vertical-align: top;\n",
       "    }\n",
       "\n",
       "    .dataframe thead th {\n",
       "        text-align: right;\n",
       "    }\n",
       "</style>\n",
       "<table border=\"1\" class=\"dataframe\">\n",
       "  <thead>\n",
       "    <tr style=\"text-align: right;\">\n",
       "      <th></th>\n",
       "      <th>Object_Description</th>\n",
       "      <th>Program_Description</th>\n",
       "      <th>SubFund_Description</th>\n",
       "      <th>Job_Title_Description</th>\n",
       "      <th>Facility_or_Department</th>\n",
       "      <th>Sub_Object_Description</th>\n",
       "      <th>Location_Description</th>\n",
       "      <th>FTE</th>\n",
       "      <th>Function_Description</th>\n",
       "      <th>Position_Extra</th>\n",
       "      <th>Text_4</th>\n",
       "      <th>Total</th>\n",
       "      <th>Text_2</th>\n",
       "      <th>Text_3</th>\n",
       "      <th>Fund_Description</th>\n",
       "      <th>Text_1</th>\n",
       "    </tr>\n",
       "  </thead>\n",
       "  <tbody>\n",
       "    <tr>\n",
       "      <td>180042</td>\n",
       "      <td>Student Meals/Room/Other</td>\n",
       "      <td>Basic Educational Services</td>\n",
       "      <td>NaN</td>\n",
       "      <td>NaN</td>\n",
       "      <td>NaN</td>\n",
       "      <td>Line Item that is paid with Campus' money</td>\n",
       "      <td>School</td>\n",
       "      <td>NaN</td>\n",
       "      <td>Instruction</td>\n",
       "      <td>NaN</td>\n",
       "      <td>NaN</td>\n",
       "      <td>3999.910000</td>\n",
       "      <td>NaN</td>\n",
       "      <td>NaN</td>\n",
       "      <td>General Fund</td>\n",
       "      <td>NaN</td>\n",
       "    </tr>\n",
       "    <tr>\n",
       "      <td>28872</td>\n",
       "      <td>Extra Duty/Signing Bonus Pay</td>\n",
       "      <td>Undistributed</td>\n",
       "      <td>NaN</td>\n",
       "      <td>CHEERLEADER DIR</td>\n",
       "      <td>NaN</td>\n",
       "      <td>General</td>\n",
       "      <td>School</td>\n",
       "      <td>NaN</td>\n",
       "      <td>Cocurricular &amp; Extra Curricular Activities</td>\n",
       "      <td>NaN</td>\n",
       "      <td>NaN</td>\n",
       "      <td>3447.320213</td>\n",
       "      <td>NaN</td>\n",
       "      <td>NaN</td>\n",
       "      <td>General Fund</td>\n",
       "      <td>NaN</td>\n",
       "    </tr>\n",
       "    <tr>\n",
       "      <td>186915</td>\n",
       "      <td>Professional Salaries</td>\n",
       "      <td>Bilingual Education</td>\n",
       "      <td>NaN</td>\n",
       "      <td>T-EL 1ST BIL</td>\n",
       "      <td>NaN</td>\n",
       "      <td>General</td>\n",
       "      <td>School</td>\n",
       "      <td>1.0</td>\n",
       "      <td>Instruction</td>\n",
       "      <td>NaN</td>\n",
       "      <td>NaN</td>\n",
       "      <td>52738.780869</td>\n",
       "      <td>NaN</td>\n",
       "      <td>NaN</td>\n",
       "      <td>General Fund</td>\n",
       "      <td>NaN</td>\n",
       "    </tr>\n",
       "    <tr>\n",
       "      <td>412396</td>\n",
       "      <td>Professional Salaries</td>\n",
       "      <td>Bilingual Education</td>\n",
       "      <td>NaN</td>\n",
       "      <td>T-EL 2ND BIL</td>\n",
       "      <td>NaN</td>\n",
       "      <td>General</td>\n",
       "      <td>School</td>\n",
       "      <td>1.0</td>\n",
       "      <td>Instruction</td>\n",
       "      <td>NaN</td>\n",
       "      <td>NaN</td>\n",
       "      <td>69729.263191</td>\n",
       "      <td>NaN</td>\n",
       "      <td>NaN</td>\n",
       "      <td>General Fund</td>\n",
       "      <td>NaN</td>\n",
       "    </tr>\n",
       "    <tr>\n",
       "      <td>427740</td>\n",
       "      <td>Salaries for Support Personnel</td>\n",
       "      <td>Undistributed</td>\n",
       "      <td>NaN</td>\n",
       "      <td>CLERK III- SCH</td>\n",
       "      <td>NaN</td>\n",
       "      <td>General</td>\n",
       "      <td>School</td>\n",
       "      <td>1.0</td>\n",
       "      <td>School Leadership</td>\n",
       "      <td>NaN</td>\n",
       "      <td>NaN</td>\n",
       "      <td>29492.834215</td>\n",
       "      <td>NaN</td>\n",
       "      <td>NaN</td>\n",
       "      <td>General Fund</td>\n",
       "      <td>NaN</td>\n",
       "    </tr>\n",
       "  </tbody>\n",
       "</table>\n",
       "</div>"
      ],
      "text/plain": [
       "                    Object_Description         Program_Description  \\\n",
       "180042        Student Meals/Room/Other  Basic Educational Services   \n",
       "28872     Extra Duty/Signing Bonus Pay               Undistributed   \n",
       "186915           Professional Salaries         Bilingual Education   \n",
       "412396           Professional Salaries         Bilingual Education   \n",
       "427740  Salaries for Support Personnel               Undistributed   \n",
       "\n",
       "       SubFund_Description Job_Title_Description Facility_or_Department  \\\n",
       "180042                 NaN                   NaN                    NaN   \n",
       "28872                  NaN       CHEERLEADER DIR                    NaN   \n",
       "186915                 NaN          T-EL 1ST BIL                    NaN   \n",
       "412396                 NaN          T-EL 2ND BIL                    NaN   \n",
       "427740                 NaN        CLERK III- SCH                    NaN   \n",
       "\n",
       "                           Sub_Object_Description Location_Description  FTE  \\\n",
       "180042  Line Item that is paid with Campus' money              School   NaN   \n",
       "28872                                     General              School   NaN   \n",
       "186915                                    General              School   1.0   \n",
       "412396                                    General              School   1.0   \n",
       "427740                                    General              School   1.0   \n",
       "\n",
       "                              Function_Description Position_Extra Text_4  \\\n",
       "180042                                 Instruction            NaN    NaN   \n",
       "28872   Cocurricular & Extra Curricular Activities            NaN    NaN   \n",
       "186915                                 Instruction            NaN    NaN   \n",
       "412396                                 Instruction            NaN    NaN   \n",
       "427740                           School Leadership            NaN    NaN   \n",
       "\n",
       "               Total Text_2 Text_3 Fund_Description Text_1  \n",
       "180042   3999.910000    NaN    NaN     General Fund    NaN  \n",
       "28872    3447.320213    NaN    NaN     General Fund    NaN  \n",
       "186915  52738.780869    NaN    NaN     General Fund    NaN  \n",
       "412396  69729.263191    NaN    NaN     General Fund    NaN  \n",
       "427740  29492.834215    NaN    NaN     General Fund    NaN  "
      ]
     },
     "execution_count": 28,
     "metadata": {},
     "output_type": "execute_result"
    }
   ],
   "source": [
    "X_test.head(5)"
   ]
  },
  {
   "cell_type": "markdown",
   "metadata": {},
   "source": [
    "**Test data column ordering must be equal to Training data**"
   ]
  },
  {
   "cell_type": "code",
   "execution_count": 29,
   "metadata": {},
   "outputs": [],
   "source": [
    "X_test1 = pd.DataFrame(X_test,columns=X.columns)"
   ]
  },
  {
   "cell_type": "code",
   "execution_count": 30,
   "metadata": {},
   "outputs": [
    {
     "data": {
      "text/html": [
       "<div>\n",
       "<style scoped>\n",
       "    .dataframe tbody tr th:only-of-type {\n",
       "        vertical-align: middle;\n",
       "    }\n",
       "\n",
       "    .dataframe tbody tr th {\n",
       "        vertical-align: top;\n",
       "    }\n",
       "\n",
       "    .dataframe thead th {\n",
       "        text-align: right;\n",
       "    }\n",
       "</style>\n",
       "<table border=\"1\" class=\"dataframe\">\n",
       "  <thead>\n",
       "    <tr style=\"text-align: right;\">\n",
       "      <th></th>\n",
       "      <th>Object_Description</th>\n",
       "      <th>Text_2</th>\n",
       "      <th>SubFund_Description</th>\n",
       "      <th>Job_Title_Description</th>\n",
       "      <th>Text_3</th>\n",
       "      <th>Text_4</th>\n",
       "      <th>Sub_Object_Description</th>\n",
       "      <th>Location_Description</th>\n",
       "      <th>FTE</th>\n",
       "      <th>Function_Description</th>\n",
       "      <th>Facility_or_Department</th>\n",
       "      <th>Position_Extra</th>\n",
       "      <th>Total</th>\n",
       "      <th>Program_Description</th>\n",
       "      <th>Fund_Description</th>\n",
       "      <th>Text_1</th>\n",
       "    </tr>\n",
       "  </thead>\n",
       "  <tbody>\n",
       "    <tr>\n",
       "      <td>180042</td>\n",
       "      <td>Student Meals/Room/Other</td>\n",
       "      <td>NaN</td>\n",
       "      <td>NaN</td>\n",
       "      <td>NaN</td>\n",
       "      <td>NaN</td>\n",
       "      <td>NaN</td>\n",
       "      <td>Line Item that is paid with Campus' money</td>\n",
       "      <td>School</td>\n",
       "      <td>NaN</td>\n",
       "      <td>Instruction</td>\n",
       "      <td>NaN</td>\n",
       "      <td>NaN</td>\n",
       "      <td>3999.910000</td>\n",
       "      <td>Basic Educational Services</td>\n",
       "      <td>General Fund</td>\n",
       "      <td>NaN</td>\n",
       "    </tr>\n",
       "    <tr>\n",
       "      <td>28872</td>\n",
       "      <td>Extra Duty/Signing Bonus Pay</td>\n",
       "      <td>NaN</td>\n",
       "      <td>NaN</td>\n",
       "      <td>CHEERLEADER DIR</td>\n",
       "      <td>NaN</td>\n",
       "      <td>NaN</td>\n",
       "      <td>General</td>\n",
       "      <td>School</td>\n",
       "      <td>NaN</td>\n",
       "      <td>Cocurricular &amp; Extra Curricular Activities</td>\n",
       "      <td>NaN</td>\n",
       "      <td>NaN</td>\n",
       "      <td>3447.320213</td>\n",
       "      <td>Undistributed</td>\n",
       "      <td>General Fund</td>\n",
       "      <td>NaN</td>\n",
       "    </tr>\n",
       "    <tr>\n",
       "      <td>186915</td>\n",
       "      <td>Professional Salaries</td>\n",
       "      <td>NaN</td>\n",
       "      <td>NaN</td>\n",
       "      <td>T-EL 1ST BIL</td>\n",
       "      <td>NaN</td>\n",
       "      <td>NaN</td>\n",
       "      <td>General</td>\n",
       "      <td>School</td>\n",
       "      <td>1.0</td>\n",
       "      <td>Instruction</td>\n",
       "      <td>NaN</td>\n",
       "      <td>NaN</td>\n",
       "      <td>52738.780869</td>\n",
       "      <td>Bilingual Education</td>\n",
       "      <td>General Fund</td>\n",
       "      <td>NaN</td>\n",
       "    </tr>\n",
       "    <tr>\n",
       "      <td>412396</td>\n",
       "      <td>Professional Salaries</td>\n",
       "      <td>NaN</td>\n",
       "      <td>NaN</td>\n",
       "      <td>T-EL 2ND BIL</td>\n",
       "      <td>NaN</td>\n",
       "      <td>NaN</td>\n",
       "      <td>General</td>\n",
       "      <td>School</td>\n",
       "      <td>1.0</td>\n",
       "      <td>Instruction</td>\n",
       "      <td>NaN</td>\n",
       "      <td>NaN</td>\n",
       "      <td>69729.263191</td>\n",
       "      <td>Bilingual Education</td>\n",
       "      <td>General Fund</td>\n",
       "      <td>NaN</td>\n",
       "    </tr>\n",
       "    <tr>\n",
       "      <td>427740</td>\n",
       "      <td>Salaries for Support Personnel</td>\n",
       "      <td>NaN</td>\n",
       "      <td>NaN</td>\n",
       "      <td>CLERK III- SCH</td>\n",
       "      <td>NaN</td>\n",
       "      <td>NaN</td>\n",
       "      <td>General</td>\n",
       "      <td>School</td>\n",
       "      <td>1.0</td>\n",
       "      <td>School Leadership</td>\n",
       "      <td>NaN</td>\n",
       "      <td>NaN</td>\n",
       "      <td>29492.834215</td>\n",
       "      <td>Undistributed</td>\n",
       "      <td>General Fund</td>\n",
       "      <td>NaN</td>\n",
       "    </tr>\n",
       "  </tbody>\n",
       "</table>\n",
       "</div>"
      ],
      "text/plain": [
       "                    Object_Description Text_2 SubFund_Description  \\\n",
       "180042        Student Meals/Room/Other    NaN                 NaN   \n",
       "28872     Extra Duty/Signing Bonus Pay    NaN                 NaN   \n",
       "186915           Professional Salaries    NaN                 NaN   \n",
       "412396           Professional Salaries    NaN                 NaN   \n",
       "427740  Salaries for Support Personnel    NaN                 NaN   \n",
       "\n",
       "       Job_Title_Description Text_3 Text_4  \\\n",
       "180042                   NaN    NaN    NaN   \n",
       "28872        CHEERLEADER DIR    NaN    NaN   \n",
       "186915          T-EL 1ST BIL    NaN    NaN   \n",
       "412396          T-EL 2ND BIL    NaN    NaN   \n",
       "427740        CLERK III- SCH    NaN    NaN   \n",
       "\n",
       "                           Sub_Object_Description Location_Description  FTE  \\\n",
       "180042  Line Item that is paid with Campus' money              School   NaN   \n",
       "28872                                     General              School   NaN   \n",
       "186915                                    General              School   1.0   \n",
       "412396                                    General              School   1.0   \n",
       "427740                                    General              School   1.0   \n",
       "\n",
       "                              Function_Description Facility_or_Department  \\\n",
       "180042                                 Instruction                    NaN   \n",
       "28872   Cocurricular & Extra Curricular Activities                    NaN   \n",
       "186915                                 Instruction                    NaN   \n",
       "412396                                 Instruction                    NaN   \n",
       "427740                           School Leadership                    NaN   \n",
       "\n",
       "       Position_Extra         Total         Program_Description  \\\n",
       "180042            NaN   3999.910000  Basic Educational Services   \n",
       "28872             NaN   3447.320213               Undistributed   \n",
       "186915            NaN  52738.780869         Bilingual Education   \n",
       "412396            NaN  69729.263191         Bilingual Education   \n",
       "427740            NaN  29492.834215               Undistributed   \n",
       "\n",
       "       Fund_Description Text_1  \n",
       "180042     General Fund    NaN  \n",
       "28872      General Fund    NaN  \n",
       "186915     General Fund    NaN  \n",
       "412396     General Fund    NaN  \n",
       "427740     General Fund    NaN  "
      ]
     },
     "execution_count": 30,
     "metadata": {},
     "output_type": "execute_result"
    }
   ],
   "source": [
    "X_test1.head(5)"
   ]
  },
  {
   "cell_type": "markdown",
   "metadata": {},
   "source": [
    "**Inspect Data Types**"
   ]
  },
  {
   "cell_type": "code",
   "execution_count": 31,
   "metadata": {},
   "outputs": [
    {
     "name": "stdout",
     "output_type": "stream",
     "text": [
      "<class 'pandas.core.frame.DataFrame'>\n",
      "Int64Index: 400277 entries, 134338 to 415831\n",
      "Data columns (total 16 columns):\n",
      "Object_Description        375493 non-null object\n",
      "Text_2                    88217 non-null object\n",
      "SubFund_Description       306855 non-null object\n",
      "Job_Title_Description     292743 non-null object\n",
      "Text_3                    109152 non-null object\n",
      "Text_4                    53746 non-null object\n",
      "Sub_Object_Description    91603 non-null object\n",
      "Location_Description      162054 non-null object\n",
      "FTE                       126071 non-null float64\n",
      "Function_Description      342195 non-null object\n",
      "Facility_or_Department    53886 non-null object\n",
      "Position_Extra            264764 non-null object\n",
      "Total                     395722 non-null float64\n",
      "Program_Description       304660 non-null object\n",
      "Fund_Description          202877 non-null object\n",
      "Text_1                    292285 non-null object\n",
      "dtypes: float64(2), object(14)\n",
      "memory usage: 51.9+ MB\n"
     ]
    }
   ],
   "source": [
    "X.info()"
   ]
  },
  {
   "cell_type": "markdown",
   "metadata": {},
   "source": [
    "**Seperate Numerical and Text Features**"
   ]
  },
  {
   "cell_type": "code",
   "execution_count": 32,
   "metadata": {},
   "outputs": [
    {
     "data": {
      "text/plain": [
       "['Object_Description',\n",
       " 'Text_2',\n",
       " 'SubFund_Description',\n",
       " 'Job_Title_Description',\n",
       " 'Text_3',\n",
       " 'Text_4',\n",
       " 'Sub_Object_Description',\n",
       " 'Location_Description',\n",
       " 'Function_Description',\n",
       " 'Facility_or_Department',\n",
       " 'Position_Extra',\n",
       " 'Program_Description',\n",
       " 'Fund_Description',\n",
       " 'Text_1']"
      ]
     },
     "execution_count": 32,
     "metadata": {},
     "output_type": "execute_result"
    }
   ],
   "source": [
    "num_cols = X.select_dtypes(include='number').columns.to_list()\n",
    "text_cols = X.select_dtypes(exclude='number').columns.to_list()\n",
    "text_cols"
   ]
  },
  {
   "cell_type": "code",
   "execution_count": 33,
   "metadata": {},
   "outputs": [
    {
     "data": {
      "text/plain": [
       "(50064, 16)"
      ]
     },
     "execution_count": 33,
     "metadata": {},
     "output_type": "execute_result"
    }
   ],
   "source": [
    "X_test1.shape"
   ]
  },
  {
   "cell_type": "markdown",
   "metadata": {},
   "source": [
    "**Create csv submission file**"
   ]
  },
  {
   "cell_type": "code",
   "execution_count": 34,
   "metadata": {},
   "outputs": [],
   "source": [
    "def create_csv_submission_file(model, X_test, y_train):\n",
    "    # Make prediction\n",
    "    y_pred = model.predict_proba(X_test)\n",
    "    \n",
    "    # Make list of column names\n",
    "    pc_pairs = zip(y_train.columns, model.named_steps.classifier.classes_)\n",
    "    columns = []\n",
    "    for parent, children in pc_pairs:\n",
    "        for child in children:\n",
    "            columns.append(f'{parent}__{child}')\n",
    "            \n",
    "    # Put predictions in DataFrame\n",
    "    df = pd.DataFrame(np.concatenate(y_pred, axis=1),\n",
    "                      index=X_test.index,\n",
    "                      columns=columns)\n",
    "    df = df[sorted(df.columns)]\n",
    "    \n",
    "    date = pd.Timestamp.now().strftime(format='%Y-%m-%d_%H-%M_')\n",
    "    df.to_csv(f'../predictions/{date}submission.csv', index=True, header=True)"
   ]
  },
  {
   "cell_type": "markdown",
   "metadata": {},
   "source": [
    "**Custom transformer to join all the text in the text columns**"
   ]
  },
  {
   "cell_type": "code",
   "execution_count": 35,
   "metadata": {},
   "outputs": [],
   "source": [
    "class Concatenator(BaseEstimator, TransformerMixin):\n",
    "    def __init__(self):\n",
    "        pass\n",
    "        \n",
    "    def fit(self, X, y=None):\n",
    "        return self\n",
    "    \n",
    "    def transform(self, X):\n",
    "        results = []\n",
    "        for row in X:\n",
    "            results.append(' '.join([w for w in row if w]))\n",
    "        return results"
   ]
  },
  {
   "cell_type": "markdown",
   "metadata": {},
   "source": [
    "**Using DecisionTreeClassifier**"
   ]
  },
  {
   "cell_type": "code",
   "execution_count": null,
   "metadata": {},
   "outputs": [],
   "source": [
    "num_pipe = Pipeline([\n",
    "    ('imputer', SimpleImputer(strategy='mean'))\n",
    "])\n",
    "\n",
    "text_pipe = Pipeline([\n",
    "    ('imputer', SimpleImputer(strategy='constant', fill_value='')),\n",
    "    ('concatenate', Concatenator()),\n",
    "    ('vectorizer', HashingVectorizer(lowercase=True))\n",
    "])\n",
    "\n",
    "ct = ColumnTransformer(remainder='drop',\n",
    "                       transformers=[\n",
    "                           ('num_pipe', num_pipe, num_cols),\n",
    "                           ('text_pipe', text_pipe, text_cols)\n",
    "                       ])\n",
    "\n",
    "model = Pipeline([\n",
    "    ('ct', ct),\n",
    "    ('classifier', DecisionTreeClassifier(max_depth=3))\n",
    "])\n"
   ]
  },
  {
   "cell_type": "code",
   "execution_count": null,
   "metadata": {},
   "outputs": [],
   "source": [
    "model.fit(X,y);"
   ]
  },
  {
   "cell_type": "code",
   "execution_count": null,
   "metadata": {},
   "outputs": [],
   "source": [
    "create_csv_submission_file(model, X_test1, y)"
   ]
  },
  {
   "cell_type": "code",
   "execution_count": null,
   "metadata": {},
   "outputs": [],
   "source": [
    "y_pred = model.predict_proba(X_test1)"
   ]
  },
  {
   "cell_type": "code",
   "execution_count": null,
   "metadata": {},
   "outputs": [],
   "source": [
    "pd.DataFrame(np.concatenate(y_pred, axis=1),index = X_test1.index).head()"
   ]
  },
  {
   "cell_type": "code",
   "execution_count": null,
   "metadata": {},
   "outputs": [],
   "source": [
    "pd.DataFrame(np.hstack(y_pred),index = X_test1.index).head()"
   ]
  },
  {
   "cell_type": "code",
   "execution_count": null,
   "metadata": {},
   "outputs": [],
   "source": [
    "y.columns"
   ]
  },
  {
   "cell_type": "code",
   "execution_count": null,
   "metadata": {},
   "outputs": [],
   "source": [
    "model.named_steps.classifier.classes_"
   ]
  },
  {
   "cell_type": "code",
   "execution_count": null,
   "metadata": {},
   "outputs": [],
   "source": [
    "# Make list of column names\n",
    "pc_pairs = zip(y.columns, model.named_steps.classifier.classes_)\n",
    "columns = []\n",
    "for parent, children in pc_pairs:\n",
    "    for child in children:\n",
    "        columns.append(f'{parent}__{child}')"
   ]
  },
  {
   "cell_type": "code",
   "execution_count": null,
   "metadata": {},
   "outputs": [],
   "source": [
    "columns"
   ]
  },
  {
   "cell_type": "code",
   "execution_count": null,
   "metadata": {},
   "outputs": [],
   "source": [
    "pd.DataFrame(np.concatenate(y_pred, axis=1),\n",
    "                      index=X_test1.index,\n",
    "                      columns=columns).head()"
   ]
  },
  {
   "cell_type": "code",
   "execution_count": null,
   "metadata": {},
   "outputs": [],
   "source": [
    "pd.DataFrame(np.hstack(y_pred),\n",
    "             index = X_test1.index,\n",
    "             columns=columns).head()"
   ]
  },
  {
   "cell_type": "markdown",
   "metadata": {},
   "source": [
    "**Using RandomForestClassifier**"
   ]
  },
  {
   "cell_type": "code",
   "execution_count": null,
   "metadata": {},
   "outputs": [],
   "source": [
    "num_pipe = Pipeline([\n",
    "    ('imputer', SimpleImputer(strategy='mean'))\n",
    "])\n",
    "\n",
    "text_pipe = Pipeline([\n",
    "    ('imputer', SimpleImputer(strategy='constant', fill_value='')),\n",
    "    ('concatenate', Concatenator()),\n",
    "    ('vectorizer', HashingVectorizer(lowercase=True))\n",
    "])\n",
    "\n",
    "ct = ColumnTransformer(remainder='drop',\n",
    "                       transformers=[\n",
    "                           ('num_pipe', num_pipe, num_cols),\n",
    "                           ('text_pipe', text_pipe, text_cols)\n",
    "                       ])\n",
    "\n",
    "randommodel = Pipeline([\n",
    "    ('ct', ct),\n",
    "    ('classifier', RandomForestClassifier(n_jobs=10,n_estimators=100,verbose=1))\n",
    "])"
   ]
  },
  {
   "cell_type": "code",
   "execution_count": null,
   "metadata": {},
   "outputs": [],
   "source": [
    "randommodel.fit(X,y);"
   ]
  },
  {
   "cell_type": "code",
   "execution_count": null,
   "metadata": {},
   "outputs": [],
   "source": [
    "create_csv_submission_file(randommodel, X_test1, y)"
   ]
  },
  {
   "cell_type": "markdown",
   "metadata": {},
   "source": [
    "**Using ExtraTreesClassifier**"
   ]
  },
  {
   "cell_type": "code",
   "execution_count": 48,
   "metadata": {},
   "outputs": [],
   "source": [
    "num_pipe = Pipeline([\n",
    "    ('imputer', SimpleImputer(strategy='mean'))\n",
    "])\n",
    "\n",
    "text_pipe = Pipeline([\n",
    "    ('imputer', SimpleImputer(strategy='constant', fill_value='')),\n",
    "    ('concatenate', Concatenator()),\n",
    "    ('vectorizer', HashingVectorizer(lowercase=True))\n",
    "])\n",
    "\n",
    "ct = ColumnTransformer(remainder='drop',\n",
    "                       transformers=[\n",
    "                           ('num_pipe', num_pipe, num_cols),\n",
    "                           ('text_pipe', text_pipe, text_cols)\n",
    "                       ])\n",
    "\n",
    "extramodel = Pipeline([\n",
    "    ('ct', ct),\n",
    "    ('classifier', ExtraTreesClassifier(n_jobs=10,n_estimators=100,verbose=1))\n",
    "])"
   ]
  },
  {
   "cell_type": "code",
   "execution_count": 49,
   "metadata": {},
   "outputs": [
    {
     "name": "stderr",
     "output_type": "stream",
     "text": [
      "[Parallel(n_jobs=10)]: Using backend ThreadingBackend with 10 concurrent workers.\n",
      "[Parallel(n_jobs=10)]: Done  30 tasks      | elapsed: 412.3min\n",
      "[Parallel(n_jobs=10)]: Done 100 out of 100 | elapsed: 1405.9min finished\n"
     ]
    }
   ],
   "source": [
    "extramodel.fit(X,y);"
   ]
  },
  {
   "cell_type": "code",
   "execution_count": 50,
   "metadata": {},
   "outputs": [
    {
     "name": "stderr",
     "output_type": "stream",
     "text": [
      "[Parallel(n_jobs=10)]: Using backend ThreadingBackend with 10 concurrent workers.\n",
      "[Parallel(n_jobs=10)]: Done  30 tasks      | elapsed:  9.1min\n",
      "[Parallel(n_jobs=10)]: Done 100 out of 100 | elapsed: 27.5min finished\n"
     ]
    }
   ],
   "source": [
    "create_csv_submission_file(extramodel, X_test1, y)"
   ]
  },
  {
   "cell_type": "markdown",
   "metadata": {},
   "source": [
    "**Using RadiusNeighborsClassifier**"
   ]
  },
  {
   "cell_type": "code",
   "execution_count": null,
   "metadata": {},
   "outputs": [],
   "source": [
    "num_pipe = Pipeline([\n",
    "    ('imputer', SimpleImputer(strategy='mean'))\n",
    "])\n",
    "\n",
    "text_pipe = Pipeline([\n",
    "    ('imputer', SimpleImputer(strategy='constant', fill_value='')),\n",
    "    ('concatenate', Concatenator()),\n",
    "    ('vectorizer', TfidfVectorizer(lowercase=True))\n",
    "])\n",
    "\n",
    "ct = ColumnTransformer(remainder='drop',\n",
    "                       transformers=[\n",
    "                           ('num_pipe', num_pipe, num_cols),\n",
    "                           ('text_pipe', text_pipe, text_cols)\n",
    "                       ])\n",
    "\n",
    "radius = Pipeline([\n",
    "    ('ct', ct),\n",
    "    ('classifier', RadiusNeighborsClassifier(n_jobs=10))\n",
    "])"
   ]
  },
  {
   "cell_type": "code",
   "execution_count": null,
   "metadata": {},
   "outputs": [],
   "source": [
    "radius.fit(X,y);"
   ]
  },
  {
   "cell_type": "code",
   "execution_count": null,
   "metadata": {},
   "outputs": [],
   "source": [
    "create_csv_submission_file(radius, X_test1, y)"
   ]
  },
  {
   "cell_type": "markdown",
   "metadata": {},
   "source": [
    "**Using KNeighborsClassifier**"
   ]
  },
  {
   "cell_type": "code",
   "execution_count": null,
   "metadata": {},
   "outputs": [],
   "source": [
    "num_pipe = Pipeline([\n",
    "    ('imputer', SimpleImputer(strategy='mean'))\n",
    "])\n",
    "\n",
    "text_pipe = Pipeline([\n",
    "    ('imputer', SimpleImputer(strategy='constant', fill_value='')),\n",
    "    ('concatenate', Concatenator()),\n",
    "    ('vectorizer', TfidfVectorizer(lowercase=True))\n",
    "])\n",
    "\n",
    "ct = ColumnTransformer(remainder='drop',\n",
    "                       transformers=[\n",
    "                           ('num_pipe', num_pipe, num_cols),\n",
    "                           ('text_pipe', text_pipe, text_cols)\n",
    "                       ])\n",
    "\n",
    "neighbor = Pipeline([\n",
    "    ('ct', ct),\n",
    "    ('classifier', KNeighborsClassifier(n_jobs=10))\n",
    "])"
   ]
  },
  {
   "cell_type": "code",
   "execution_count": null,
   "metadata": {},
   "outputs": [],
   "source": [
    "neighbor.fit(X,y);"
   ]
  },
  {
   "cell_type": "code",
   "execution_count": null,
   "metadata": {},
   "outputs": [],
   "source": [
    "create_csv_submission_file(neighbor, X_test1, y)"
   ]
  },
  {
   "cell_type": "markdown",
   "metadata": {},
   "source": [
    "**MultiOutputClassifier and XGBClassifier**"
   ]
  },
  {
   "cell_type": "code",
   "execution_count": 58,
   "metadata": {},
   "outputs": [],
   "source": [
    "X_train, X_test, y_train, y_test = train_test_split(X, y, test_size=0.2, random_state=42)"
   ]
  },
  {
   "cell_type": "code",
   "execution_count": 59,
   "metadata": {},
   "outputs": [],
   "source": [
    "\n",
    "\n",
    "num_pipe = Pipeline([\n",
    "    ('imputer', SimpleImputer(strategy='mean'))\n",
    "])\n",
    "\n",
    "text_pipe = Pipeline([\n",
    "    ('imputer', SimpleImputer(strategy='constant', fill_value='')),\n",
    "    ('concatenate', Concatenator()),\n",
    "    ('vectorizer', TfidfVectorizer(lowercase=True))\n",
    "])\n",
    "\n",
    "ct = ColumnTransformer(remainder='drop',\n",
    "                       transformers=[\n",
    "                           ('num_pipe', num_pipe, num_cols),\n",
    "                           ('text_pipe', text_pipe, text_cols)\n",
    "                       ])\n",
    "\n",
    "clf = MultiOutputClassifier(XGBClassifier())\n",
    "\n",
    "multiOutput = Pipeline([\n",
    "    ('ct', ct),\n",
    "    ('classifier', clf)\n",
    "])\n"
   ]
  },
  {
   "cell_type": "code",
   "execution_count": 60,
   "metadata": {},
   "outputs": [
    {
     "data": {
      "text/plain": [
       "Pipeline(memory=None,\n",
       "         steps=[('ct',\n",
       "                 ColumnTransformer(n_jobs=None, remainder='drop',\n",
       "                                   sparse_threshold=0.3,\n",
       "                                   transformer_weights=None,\n",
       "                                   transformers=[('num_pipe',\n",
       "                                                  Pipeline(memory=None,\n",
       "                                                           steps=[('imputer',\n",
       "                                                                   SimpleImputer(add_indicator=False,\n",
       "                                                                                 copy=True,\n",
       "                                                                                 fill_value=None,\n",
       "                                                                                 missing_values=nan,\n",
       "                                                                                 strategy='mean',\n",
       "                                                                                 verbose=0))],\n",
       "                                                           verbose=False),\n",
       "                                                  ['FTE', 'Total']),\n",
       "                                                 ('text_pipe',\n",
       "                                                  Pipel...\n",
       "                                                               booster='gbtree',\n",
       "                                                               colsample_bylevel=1,\n",
       "                                                               colsample_bynode=1,\n",
       "                                                               colsample_bytree=1,\n",
       "                                                               gamma=0,\n",
       "                                                               learning_rate=0.1,\n",
       "                                                               max_delta_step=0,\n",
       "                                                               max_depth=3,\n",
       "                                                               min_child_weight=1,\n",
       "                                                               missing=None,\n",
       "                                                               n_estimators=100,\n",
       "                                                               n_jobs=1,\n",
       "                                                               nthread=None,\n",
       "                                                               objective='binary:logistic',\n",
       "                                                               random_state=0,\n",
       "                                                               reg_alpha=0,\n",
       "                                                               reg_lambda=1,\n",
       "                                                               scale_pos_weight=1,\n",
       "                                                               seed=None,\n",
       "                                                               silent=None,\n",
       "                                                               subsample=1,\n",
       "                                                               verbosity=1),\n",
       "                                       n_jobs=None))],\n",
       "         verbose=False)"
      ]
     },
     "execution_count": 60,
     "metadata": {},
     "output_type": "execute_result"
    }
   ],
   "source": [
    "multiOutput.fit(X_train, y_train)"
   ]
  },
  {
   "cell_type": "code",
   "execution_count": 61,
   "metadata": {},
   "outputs": [],
   "source": [
    "preds = multiOutput.predict(X_test)"
   ]
  },
  {
   "cell_type": "code",
   "execution_count": 112,
   "metadata": {},
   "outputs": [
    {
     "data": {
      "text/plain": [
       "array(['Aides Compensation', 'Career & Academic Counseling',\n",
       "       'Communications', 'Curriculum Development',\n",
       "       'Data Processing & Information Services',\n",
       "       'Development & Fundraising', 'Enrichment',\n",
       "       'Extended Time & Tutoring', 'Facilities & Maintenance',\n",
       "       'Facilities Planning',\n",
       "       'Finance, Budget, Purchasing & Distribution', 'Food Services',\n",
       "       'Governance', 'Human Resources',\n",
       "       'Instructional Materials & Supplies', 'Insurance', 'Legal',\n",
       "       'Library & Media', 'NO_LABEL', 'Other Compensation',\n",
       "       'Other Non-Compensation', 'Parent & Community Relations',\n",
       "       'Physical Health & Services', 'Professional Development',\n",
       "       'Recruitment', 'Research & Accountability',\n",
       "       'School Administration', 'School Supervision', 'Security & Safety',\n",
       "       'Social & Emotional',\n",
       "       'Special Population Program Management & Support',\n",
       "       'Student Assignment', 'Student Transportation',\n",
       "       'Substitute Compensation', 'Teacher Compensation',\n",
       "       'Untracked Budget Set-Aside', 'Utilities'], dtype=object)"
      ]
     },
     "execution_count": 112,
     "metadata": {},
     "output_type": "execute_result"
    }
   ],
   "source": [
    "multiOutput.named_steps.classifier.estimators_[0].classes_"
   ]
  },
  {
   "cell_type": "code",
   "execution_count": 107,
   "metadata": {},
   "outputs": [
    {
     "data": {
      "text/plain": [
       "9"
      ]
     },
     "execution_count": 107,
     "metadata": {},
     "output_type": "execute_result"
    }
   ],
   "source": [
    "len(multiOutput.named_steps.classifier.estimators_)"
   ]
  },
  {
   "cell_type": "code",
   "execution_count": 110,
   "metadata": {},
   "outputs": [],
   "source": [
    "length = len(multiOutput.named_steps.classifier.estimators_)\n",
    "results = [multiOutput.named_steps.classifier.estimators_[n].classes_ for n in range(length)]\n"
   ]
  },
  {
   "cell_type": "code",
   "execution_count": 111,
   "metadata": {},
   "outputs": [
    {
     "data": {
      "text/plain": [
       "[array(['Aides Compensation', 'Career & Academic Counseling',\n",
       "        'Communications', 'Curriculum Development',\n",
       "        'Data Processing & Information Services',\n",
       "        'Development & Fundraising', 'Enrichment',\n",
       "        'Extended Time & Tutoring', 'Facilities & Maintenance',\n",
       "        'Facilities Planning',\n",
       "        'Finance, Budget, Purchasing & Distribution', 'Food Services',\n",
       "        'Governance', 'Human Resources',\n",
       "        'Instructional Materials & Supplies', 'Insurance', 'Legal',\n",
       "        'Library & Media', 'NO_LABEL', 'Other Compensation',\n",
       "        'Other Non-Compensation', 'Parent & Community Relations',\n",
       "        'Physical Health & Services', 'Professional Development',\n",
       "        'Recruitment', 'Research & Accountability',\n",
       "        'School Administration', 'School Supervision', 'Security & Safety',\n",
       "        'Social & Emotional',\n",
       "        'Special Population Program Management & Support',\n",
       "        'Student Assignment', 'Student Transportation',\n",
       "        'Substitute Compensation', 'Teacher Compensation',\n",
       "        'Untracked Budget Set-Aside', 'Utilities'], dtype=object),\n",
       " array(['Business Services', 'ISPD', 'Instruction', 'Leadership',\n",
       "        'NO_LABEL', 'O&M', 'Pupil Services & Enrichment',\n",
       "        'Untracked Budget Set-Aside'], dtype=object),\n",
       " array(['Leadership & Management', 'NO_LABEL', 'School Reported',\n",
       "        'School on Central Budgets', 'Shared Services'], dtype=object),\n",
       " array(['NO_LABEL', 'Non-School', 'School'], dtype=object),\n",
       " array(['Alternative', 'At Risk', 'ELL', 'Gifted', 'NO_LABEL', 'Poverty',\n",
       "        'PreK', 'Special Education', 'Unspecified'], dtype=object),\n",
       " array(['(Exec) Director', 'Area Officers', 'Club Advisor/Coach',\n",
       "        'Coordinator/Manager', 'Custodian', 'Guidance Counselor',\n",
       "        'Instructional Coach', 'Librarian', 'NO_LABEL', 'Non-Position',\n",
       "        'Nurse', 'Nurse Aide', 'Occupational Therapist', 'Other',\n",
       "        'Physical Therapist', 'Principal', 'Psychologist',\n",
       "        'School Monitor/Security', 'Sec/Clerk/Other Admin',\n",
       "        'Social Worker', 'Speech Therapist', 'Substitute', 'TA', 'Teacher',\n",
       "        'Vice Principal'], dtype=object),\n",
       " array(['Base Salary/Compensation', 'Benefits', 'Contracted Services',\n",
       "        'Equipment & Equipment Lease', 'NO_LABEL',\n",
       "        'Other Compensation/Stipend', 'Other Non-Compensation',\n",
       "        'Rent/Utilities', 'Substitute Compensation', 'Supplies/Materials',\n",
       "        'Travel & Conferences'], dtype=object),\n",
       " array(['NO_LABEL', 'Non PreK', 'PreK'], dtype=object),\n",
       " array(['Non-Operating', 'Operating, Not PreK-12', 'PreK-12 Operating'],\n",
       "       dtype=object)]"
      ]
     },
     "execution_count": 111,
     "metadata": {},
     "output_type": "execute_result"
    }
   ],
   "source": [
    "results"
   ]
  },
  {
   "cell_type": "code",
   "execution_count": 114,
   "metadata": {},
   "outputs": [],
   "source": [
    "create_csv_submission_xg_file(multiOutput, X_test1, y)"
   ]
  },
  {
   "cell_type": "code",
   "execution_count": 113,
   "metadata": {},
   "outputs": [],
   "source": [
    "def create_csv_submission_xg_file(model, X_test, y_train):\n",
    "    # Make prediction\n",
    "    y_pred = model.predict_proba(X_test)\n",
    "    \n",
    "    length = len(model.named_steps.classifier.estimators_)\n",
    "    results = [model.named_steps.classifier.estimators_[n].classes_ for n in range(length)]\n",
    "    # Make list of column names\n",
    "    pc_pairs = zip(y_train.columns, results)\n",
    "    columns = []\n",
    "    for parent, children in pc_pairs:\n",
    "        for child in children:\n",
    "            columns.append(f'{parent}__{child}')\n",
    "            \n",
    "    # Put predictions in DataFrame\n",
    "    df = pd.DataFrame(np.concatenate(y_pred, axis=1),\n",
    "                      index=X_test.index,\n",
    "                      columns=columns)\n",
    "    df = df[sorted(df.columns)]\n",
    "    \n",
    "    date = pd.Timestamp.now().strftime(format='%Y-%m-%d_%H-%M_')\n",
    "    df.to_csv(f'../predictions/{date}submission.csv', index=True, header=True)"
   ]
  },
  {
   "cell_type": "code",
   "execution_count": 97,
   "metadata": {},
   "outputs": [
    {
     "data": {
      "text/plain": [
       "[array(['Aides Compensation', 'Career & Academic Counseling',\n",
       "        'Communications', 'Curriculum Development',\n",
       "        'Data Processing & Information Services',\n",
       "        'Development & Fundraising', 'Enrichment',\n",
       "        'Extended Time & Tutoring', 'Facilities & Maintenance',\n",
       "        'Facilities Planning',\n",
       "        'Finance, Budget, Purchasing & Distribution', 'Food Services',\n",
       "        'Governance', 'Human Resources',\n",
       "        'Instructional Materials & Supplies', 'Insurance', 'Legal',\n",
       "        'Library & Media', 'NO_LABEL', 'Other Compensation',\n",
       "        'Other Non-Compensation', 'Parent & Community Relations',\n",
       "        'Physical Health & Services', 'Professional Development',\n",
       "        'Recruitment', 'Research & Accountability',\n",
       "        'School Administration', 'School Supervision', 'Security & Safety',\n",
       "        'Social & Emotional',\n",
       "        'Special Population Program Management & Support',\n",
       "        'Student Assignment', 'Student Transportation',\n",
       "        'Substitute Compensation', 'Teacher Compensation',\n",
       "        'Untracked Budget Set-Aside', 'Utilities'], dtype=object),\n",
       " array(['Business Services', 'ISPD', 'Instruction', 'Leadership',\n",
       "        'NO_LABEL', 'O&M', 'Pupil Services & Enrichment',\n",
       "        'Untracked Budget Set-Aside'], dtype=object),\n",
       " array(['Leadership & Management', 'NO_LABEL', 'School Reported',\n",
       "        'School on Central Budgets', 'Shared Services'], dtype=object),\n",
       " array(['NO_LABEL', 'Non-School', 'School'], dtype=object),\n",
       " array(['Alternative', 'At Risk', 'ELL', 'Gifted', 'NO_LABEL', 'Poverty',\n",
       "        'PreK', 'Special Education', 'Unspecified'], dtype=object),\n",
       " array(['(Exec) Director', 'Area Officers', 'Club Advisor/Coach',\n",
       "        'Coordinator/Manager', 'Custodian', 'Guidance Counselor',\n",
       "        'Instructional Coach', 'Librarian', 'NO_LABEL', 'Non-Position',\n",
       "        'Nurse', 'Nurse Aide', 'Occupational Therapist', 'Other',\n",
       "        'Physical Therapist', 'Principal', 'Psychologist',\n",
       "        'School Monitor/Security', 'Sec/Clerk/Other Admin',\n",
       "        'Social Worker', 'Speech Therapist', 'Substitute', 'TA', 'Teacher',\n",
       "        'Vice Principal'], dtype=object),\n",
       " array(['Base Salary/Compensation', 'Benefits', 'Contracted Services',\n",
       "        'Equipment & Equipment Lease', 'NO_LABEL',\n",
       "        'Other Compensation/Stipend', 'Other Non-Compensation',\n",
       "        'Rent/Utilities', 'Substitute Compensation', 'Supplies/Materials',\n",
       "        'Travel & Conferences'], dtype=object),\n",
       " array(['NO_LABEL', 'Non PreK', 'PreK'], dtype=object),\n",
       " array(['Non-Operating', 'Operating, Not PreK-12', 'PreK-12 Operating'],\n",
       "       dtype=object)]"
      ]
     },
     "execution_count": 97,
     "metadata": {},
     "output_type": "execute_result"
    }
   ],
   "source": [
    "extramodel.named_steps.classifier.classes_"
   ]
  },
  {
   "cell_type": "code",
   "execution_count": null,
   "metadata": {},
   "outputs": [],
   "source": []
  }
 ],
 "metadata": {
  "kernelspec": {
   "display_name": "Python 3",
   "language": "python",
   "name": "python3"
  },
  "language_info": {
   "codemirror_mode": {
    "name": "ipython",
    "version": 3
   },
   "file_extension": ".py",
   "mimetype": "text/x-python",
   "name": "python",
   "nbconvert_exporter": "python",
   "pygments_lexer": "ipython3",
   "version": "3.7.4"
  }
 },
 "nbformat": 4,
 "nbformat_minor": 2
}
